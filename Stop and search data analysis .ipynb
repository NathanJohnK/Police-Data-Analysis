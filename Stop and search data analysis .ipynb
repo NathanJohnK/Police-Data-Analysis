{
 "cells": [
  {
   "cell_type": "markdown",
   "metadata": {},
   "source": [
    "# Analysis of the historic records of stop and search data from MPS \n"
   ]
  },
  {
   "cell_type": "code",
   "execution_count": 1,
   "metadata": {},
   "outputs": [],
   "source": [
    "# Located at: link https://data.police.uk/data/\n",
    "\n",
    "# Manually downloaded each file\n",
    "\n",
    "# Consists of ~ 5000 excel files from the MPS database \n",
    "# From time range of 2021 to 2024\n",
    "\n",
    "# data organised in folders of month - year\n",
    "#each folder contains ~ 127 Excel files\n",
    "# each folder has 3 files for each force\n",
    "# 1.name-of-force-outcomes\n",
    "# 2. name-of-force-stop-and-search\n",
    "# 3. name-of-force-outcomes - street level crime"
   ]
  },
  {
   "cell_type": "code",
   "execution_count": 2,
   "metadata": {},
   "outputs": [
    {
     "name": "stdout",
     "output_type": "stream",
     "text": [
      "it worked\n",
      "CPU times: user 1 μs, sys: 0 ns, total: 1 μs\n",
      "Wall time: 2.15 μs\n"
     ]
    }
   ],
   "source": [
    "#Import all the neccessry packages\n",
    "import os\n",
    "import shutil\n",
    "import pandas as pd\n",
    "import numpy as np\n",
    "import seaborn as sn\n",
    "import matplotlib.pyplot as plt\n",
    "import seaborn as sns\n",
    "\n",
    "import sys #used for \n",
    "import csv\n",
    "import glob # used to access specific path names\n",
    "\n",
    "print (\"it worked\")\n",
    "\n",
    "%time\n",
    "%timeit"
   ]
  },
  {
   "cell_type": "markdown",
   "metadata": {},
   "source": [
    "\n",
    "\n",
    "# Step 4: Import Excel Files into Pandas ########"
   ]
  },
  {
   "cell_type": "code",
   "execution_count": 27,
   "metadata": {},
   "outputs": [
    {
     "name": "stdout",
     "output_type": "stream",
     "text": [
      "Stop and Search Data contains 1178965 records.\n",
      "Outcomes Data contains 10765151 records.\n",
      "Street Data contains 13778488 records.\n"
     ]
    }
   ],
   "source": [
    "import glob\n",
    "import pandas as pd\n",
    "\n",
    "Street_excels = glob.glob(r\"/Users/nathanstuttard/Documents/Data Science Projects/Police Dataset/Police Dataset/Street/*.csv\")\n",
    "\n",
    "all_excels = glob.glob(r\"/Users/nathanstuttard/Documents/DataScienceProjects/PoliceDataset/PoliceDataset/StopandSearch/*.csv\")\n",
    "\n",
    "# Define the folder path containing the CSV files\n",
    "folder_path = r'/Users/nathanstuttard/Documents/Data Science Projects/Police Dataset/Police Dataset/Stop and Search'\n",
    "\n",
    "# Identify the CSV files\n",
    "csv_files = [f for f in os.listdir(folder_path) if f.endswith('.csv')]\n",
    "\n",
    "# Initialize empty lists to collect DataFrames for each category\n",
    "stop_and_search_dfs = []\n",
    "outcomes_dfs = []\n",
    "street_data_dfs = []\n",
    "\n",
    "# Loop through files and append to the respective list\n",
    "for file in csv_files:\n",
    "    file_path = os.path.join(folder_path, file)\n",
    "    try:\n",
    "        df = pd.read_csv(file_path)\n",
    "    except Exception as e:\n",
    "        print(f\"Error reading {file}: {e}\")\n",
    "        continue\n",
    "\n",
    "    # Append to the appropriate list based on the file name\n",
    "    if 'search' in file.lower():\n",
    "        stop_and_search_dfs.append(df)\n",
    "    elif 'outcomes' in file.lower():\n",
    "        outcomes_dfs.append(df)\n",
    "    elif 'street' in file.lower():\n",
    "        street_data_dfs.append(df)\n",
    "\n",
    "# Concatenate all DataFrames at once after the loop\n",
    "stop_and_search_df = pd.concat(stop_and_search_dfs, ignore_index=True) if stop_and_search_dfs else pd.DataFrame()\n",
    "outcomes_df = pd.concat(outcomes_dfs, ignore_index=True) if outcomes_dfs else pd.DataFrame()\n",
    "street_data_df = pd.concat(street_data_dfs, ignore_index=True) if street_data_dfs else pd.DataFrame()\n",
    "\n",
    "# Inspect the loaded DataFrames\n",
    "if not stop_and_search_df.empty:\n",
    "    print(f\"Stop and Search Data contains {stop_and_search_df.shape[0]} records.\")\n",
    "else:\n",
    "    print(\"Stop and Search DataFrame was not loaded.\")\n",
    "\n",
    "if not outcomes_df.empty:\n",
    "    print(f\"Outcomes Data contains {outcomes_df.shape[0]} records.\")\n",
    "else:\n",
    "    print(\"Outcomes DataFrame was not loaded.\")\n",
    "\n",
    "if not street_data_df.empty:\n",
    "    print(f\"Street Data contains {street_data_df.shape[0]} records.\")\n",
    "else:\n",
    "    print(\"Street DataFrame was not loaded.\")\n",
    "\n",
    "\n"
   ]
  },
  {
   "cell_type": "code",
   "execution_count": 25,
   "metadata": {},
   "outputs": [
    {
     "data": {
      "text/html": [
       "<div>\n",
       "<style scoped>\n",
       "    .dataframe tbody tr th:only-of-type {\n",
       "        vertical-align: middle;\n",
       "    }\n",
       "\n",
       "    .dataframe tbody tr th {\n",
       "        vertical-align: top;\n",
       "    }\n",
       "\n",
       "    .dataframe thead th {\n",
       "        text-align: right;\n",
       "    }\n",
       "</style>\n",
       "<table border=\"1\" class=\"dataframe\">\n",
       "  <thead>\n",
       "    <tr style=\"text-align: right;\">\n",
       "      <th></th>\n",
       "      <th>Longitude</th>\n",
       "      <th>Latitude</th>\n",
       "      <th>Context</th>\n",
       "    </tr>\n",
       "  </thead>\n",
       "  <tbody>\n",
       "    <tr>\n",
       "      <th>count</th>\n",
       "      <td>5004.000000</td>\n",
       "      <td>5004.000000</td>\n",
       "      <td>0.0</td>\n",
       "    </tr>\n",
       "    <tr>\n",
       "      <th>mean</th>\n",
       "      <td>-1.918147</td>\n",
       "      <td>51.401832</td>\n",
       "      <td>NaN</td>\n",
       "    </tr>\n",
       "    <tr>\n",
       "      <th>std</th>\n",
       "      <td>0.182871</td>\n",
       "      <td>0.181783</td>\n",
       "      <td>NaN</td>\n",
       "    </tr>\n",
       "    <tr>\n",
       "      <th>min</th>\n",
       "      <td>-2.557515</td>\n",
       "      <td>50.954578</td>\n",
       "      <td>NaN</td>\n",
       "    </tr>\n",
       "    <tr>\n",
       "      <th>25%</th>\n",
       "      <td>-2.121991</td>\n",
       "      <td>51.293712</td>\n",
       "      <td>NaN</td>\n",
       "    </tr>\n",
       "    <tr>\n",
       "      <th>50%</th>\n",
       "      <td>-1.815762</td>\n",
       "      <td>51.442199</td>\n",
       "      <td>NaN</td>\n",
       "    </tr>\n",
       "    <tr>\n",
       "      <th>75%</th>\n",
       "      <td>-1.780208</td>\n",
       "      <td>51.561554</td>\n",
       "      <td>NaN</td>\n",
       "    </tr>\n",
       "    <tr>\n",
       "      <th>max</th>\n",
       "      <td>-1.255865</td>\n",
       "      <td>52.513670</td>\n",
       "      <td>NaN</td>\n",
       "    </tr>\n",
       "  </tbody>\n",
       "</table>\n",
       "</div>"
      ],
      "text/plain": [
       "         Longitude     Latitude  Context\n",
       "count  5004.000000  5004.000000      0.0\n",
       "mean     -1.918147    51.401832      NaN\n",
       "std       0.182871     0.181783      NaN\n",
       "min      -2.557515    50.954578      NaN\n",
       "25%      -2.121991    51.293712      NaN\n",
       "50%      -1.815762    51.442199      NaN\n",
       "75%      -1.780208    51.561554      NaN\n",
       "max      -1.255865    52.513670      NaN"
      ]
     },
     "execution_count": 25,
     "metadata": {},
     "output_type": "execute_result"
    }
   ],
   "source": [
    "street_data_df.describe()"
   ]
  },
  {
   "cell_type": "code",
   "execution_count": null,
   "metadata": {},
   "outputs": [
    {
     "ename": "AttributeError",
     "evalue": "'NoneType' object has no attribute 'shape'",
     "output_type": "error",
     "traceback": [
      "\u001b[0;31m---------------------------------------------------------------------------\u001b[0m",
      "\u001b[0;31mAttributeError\u001b[0m                            Traceback (most recent call last)",
      "Cell \u001b[0;32mIn[18], line 2\u001b[0m\n\u001b[1;32m      1\u001b[0m \u001b[38;5;66;03m#Count records in each DataFrame using .shape\u001b[39;00m\n\u001b[0;32m----> 2\u001b[0m stop_and_search_records \u001b[38;5;241m=\u001b[39m \u001b[43mstop_and_search_df\u001b[49m\u001b[38;5;241;43m.\u001b[39;49m\u001b[43mshape\u001b[49m[\u001b[38;5;241m0\u001b[39m]\n\u001b[1;32m      3\u001b[0m outcomes_records \u001b[38;5;241m=\u001b[39m outcomes_df\u001b[38;5;241m.\u001b[39mshape[\u001b[38;5;241m0\u001b[39m]\n\u001b[1;32m      4\u001b[0m street_data_records \u001b[38;5;241m=\u001b[39m street_data_df\u001b[38;5;241m.\u001b[39mshape[\u001b[38;5;241m0\u001b[39m]\n",
      "\u001b[0;31mAttributeError\u001b[0m: 'NoneType' object has no attribute 'shape'"
     ]
    }
   ],
   "source": []
  },
  {
   "cell_type": "code",
   "execution_count": null,
   "metadata": {},
   "outputs": [],
   "source": []
  },
  {
   "cell_type": "code",
   "execution_count": null,
   "metadata": {},
   "outputs": [],
   "source": []
  },
  {
   "cell_type": "code",
   "execution_count": null,
   "metadata": {},
   "outputs": [],
   "source": []
  }
 ],
 "metadata": {
  "kernelspec": {
   "display_name": "Python 3",
   "language": "python",
   "name": "python3"
  },
  "language_info": {
   "codemirror_mode": {
    "name": "ipython",
    "version": 3
   },
   "file_extension": ".py",
   "mimetype": "text/x-python",
   "name": "python",
   "nbconvert_exporter": "python",
   "pygments_lexer": "ipython3",
   "version": "3.12.7"
  }
 },
 "nbformat": 4,
 "nbformat_minor": 2
}
