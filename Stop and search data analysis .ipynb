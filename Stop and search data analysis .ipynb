{
 "cells": [
  {
   "cell_type": "markdown",
   "metadata": {},
   "source": [
    "# Analysis of the historic records of stop and search data from MPS \n"
   ]
  },
  {
   "cell_type": "code",
   "execution_count": 1,
   "metadata": {},
   "outputs": [],
   "source": [
    "# Located at: link https://data.police.uk/data/\n",
    "\n",
    "# Manually downloaded each file\n",
    "\n",
    "# Consists of ~ 5000 excel files from the MPS database \n",
    "# From time range of 2021 to 2024\n",
    "\n",
    "# data organised in folders of month - year\n",
    "#each folder contains ~ 127 Excel files\n",
    "# each folder has 3 files for each force\n",
    "# 1.name-of-force-outcomes\n",
    "# 2. name-of-force-stop-and-search\n",
    "# 3. name-of-force-outcomes - street level crime"
   ]
  },
  {
   "cell_type": "code",
   "execution_count": 2,
   "metadata": {},
   "outputs": [
    {
     "name": "stdout",
     "output_type": "stream",
     "text": [
      "it worked\n",
      "CPU times: user 1 μs, sys: 0 ns, total: 1 μs\n",
      "Wall time: 2.15 μs\n"
     ]
    }
   ],
   "source": [
    "#Import all the neccessry packages\n",
    "import os\n",
    "import shutil\n",
    "import pandas as pd\n",
    "import numpy as np\n",
    "import seaborn as sn\n",
    "import matplotlib.pyplot as plt\n",
    "import seaborn as sns\n",
    "\n",
    "import sys #used for \n",
    "import csv\n",
    "import glob # used to access specific path names\n",
    "\n",
    "print (\"it worked\")\n",
    "\n",
    "%time\n",
    "%timeit"
   ]
  },
  {
   "cell_type": "markdown",
   "metadata": {},
   "source": [
    "\n",
    "\n",
    "# Step 4: Import Excel Files into Pandas ########"
   ]
  },
  {
   "cell_type": "code",
   "execution_count": 3,
   "metadata": {},
   "outputs": [
    {
     "name": "stdout",
     "output_type": "stream",
     "text": [
      "Stop and Search Data contains 1178965 records.\n",
      "Outcomes Data contains 10765151 records.\n",
      "Street Data contains 13778488 records.\n"
     ]
    }
   ],
   "source": [
    "import glob\n",
    "import pandas as pd\n",
    "\n",
    "Street_excels = glob.glob(r\"/Users/nathanstuttard/Documents/Data Science Projects/Police Dataset/Police Dataset/Street/*.csv\")\n",
    "\n",
    "all_excels = glob.glob(r\"/Users/nathanstuttard/Documents/DataScienceProjects/PoliceDataset/PoliceDataset/StopandSearch/*.csv\")\n",
    "\n",
    "# Define the folder path containing the CSV files\n",
    "folder_path = r'/Users/nathanstuttard/Documents/Data Science Projects/Police Dataset/Police Dataset/Stop and Search'\n",
    "\n",
    "# Identify the CSV files\n",
    "csv_files = [f for f in os.listdir(folder_path) if f.endswith('.csv')]\n",
    "\n",
    "# Initialize empty lists to collect DataFrames for each category\n",
    "stop_and_search_dfs = []\n",
    "outcomes_dfs = []\n",
    "street_data_dfs = []\n",
    "\n",
    "# Loop through files and append to the respective list\n",
    "for file in csv_files:\n",
    "    file_path = os.path.join(folder_path, file)\n",
    "    try:\n",
    "        df = pd.read_csv(file_path)\n",
    "    except Exception as e:\n",
    "        print(f\"Error reading {file}: {e}\")\n",
    "        continue\n",
    "\n",
    "    # Append to the appropriate list based on the file name\n",
    "    if 'search' in file.lower():\n",
    "        stop_and_search_dfs.append(df)\n",
    "    elif 'outcomes' in file.lower():\n",
    "        outcomes_dfs.append(df)\n",
    "    elif 'street' in file.lower():\n",
    "        street_data_dfs.append(df)\n",
    "\n",
    "# Concatenate all DataFrames at once after the loop\n",
    "stop_and_search_df = pd.concat(stop_and_search_dfs, ignore_index=True) if stop_and_search_dfs else pd.DataFrame()\n",
    "outcomes_df = pd.concat(outcomes_dfs, ignore_index=True) if outcomes_dfs else pd.DataFrame()\n",
    "street_data_df = pd.concat(street_data_dfs, ignore_index=True) if street_data_dfs else pd.DataFrame()\n",
    "\n",
    "# Inspect the loaded DataFrames\n",
    "if not stop_and_search_df.empty:\n",
    "    print(f\"Stop and Search Data contains {stop_and_search_df.shape[0]} records.\")\n",
    "else:\n",
    "    print(\"Stop and Search DataFrame was not loaded.\")\n",
    "\n",
    "if not outcomes_df.empty:\n",
    "    print(f\"Outcomes Data contains {outcomes_df.shape[0]} records.\")\n",
    "else:\n",
    "    print(\"Outcomes DataFrame was not loaded.\")\n",
    "\n",
    "if not street_data_df.empty:\n",
    "    print(f\"Street Data contains {street_data_df.shape[0]} records.\")\n",
    "else:\n",
    "    print(\"Street DataFrame was not loaded.\")\n",
    "\n",
    "\n"
   ]
  },
  {
   "cell_type": "markdown",
   "metadata": {},
   "source": [
    "Inspect the street data"
   ]
  },
  {
   "cell_type": "code",
   "execution_count": 7,
   "metadata": {},
   "outputs": [
    {
     "data": {
      "text/html": [
       "<div>\n",
       "<style scoped>\n",
       "    .dataframe tbody tr th:only-of-type {\n",
       "        vertical-align: middle;\n",
       "    }\n",
       "\n",
       "    .dataframe tbody tr th {\n",
       "        vertical-align: top;\n",
       "    }\n",
       "\n",
       "    .dataframe thead th {\n",
       "        text-align: right;\n",
       "    }\n",
       "</style>\n",
       "<table border=\"1\" class=\"dataframe\">\n",
       "  <thead>\n",
       "    <tr style=\"text-align: right;\">\n",
       "      <th></th>\n",
       "      <th>Crime ID</th>\n",
       "      <th>Month</th>\n",
       "      <th>Reported by</th>\n",
       "      <th>Falls within</th>\n",
       "      <th>Longitude</th>\n",
       "      <th>Latitude</th>\n",
       "      <th>Location</th>\n",
       "      <th>LSOA code</th>\n",
       "      <th>LSOA name</th>\n",
       "      <th>Crime type</th>\n",
       "      <th>Last outcome category</th>\n",
       "      <th>Context</th>\n",
       "    </tr>\n",
       "  </thead>\n",
       "  <tbody>\n",
       "    <tr>\n",
       "      <th>0</th>\n",
       "      <td>c0a56f252ea9a873bdfddfcc11be403c67b61b4fb0254e...</td>\n",
       "      <td>2022-02</td>\n",
       "      <td>Cambridgeshire Constabulary</td>\n",
       "      <td>Cambridgeshire Constabulary</td>\n",
       "      <td>-0.836855</td>\n",
       "      <td>51.821263</td>\n",
       "      <td>On or near Supermarket</td>\n",
       "      <td>E01017708</td>\n",
       "      <td>Aylesbury Vale 012D</td>\n",
       "      <td>Shoplifting</td>\n",
       "      <td>Status update unavailable</td>\n",
       "      <td>NaN</td>\n",
       "    </tr>\n",
       "    <tr>\n",
       "      <th>1</th>\n",
       "      <td>badba1c78227f0fc28cf8eb990c6902b3b4cac2a4b4483...</td>\n",
       "      <td>2022-02</td>\n",
       "      <td>Cambridgeshire Constabulary</td>\n",
       "      <td>Cambridgeshire Constabulary</td>\n",
       "      <td>0.735361</td>\n",
       "      <td>52.408126</td>\n",
       "      <td>On or near Sloane Way</td>\n",
       "      <td>E01026476</td>\n",
       "      <td>Breckland 017C</td>\n",
       "      <td>Violence and sexual offences</td>\n",
       "      <td>Unable to prosecute suspect</td>\n",
       "      <td>NaN</td>\n",
       "    </tr>\n",
       "  </tbody>\n",
       "</table>\n",
       "</div>"
      ],
      "text/plain": [
       "                                            Crime ID    Month  \\\n",
       "0  c0a56f252ea9a873bdfddfcc11be403c67b61b4fb0254e...  2022-02   \n",
       "1  badba1c78227f0fc28cf8eb990c6902b3b4cac2a4b4483...  2022-02   \n",
       "\n",
       "                   Reported by                 Falls within  Longitude  \\\n",
       "0  Cambridgeshire Constabulary  Cambridgeshire Constabulary  -0.836855   \n",
       "1  Cambridgeshire Constabulary  Cambridgeshire Constabulary   0.735361   \n",
       "\n",
       "    Latitude                Location  LSOA code            LSOA name  \\\n",
       "0  51.821263  On or near Supermarket  E01017708  Aylesbury Vale 012D   \n",
       "1  52.408126   On or near Sloane Way  E01026476       Breckland 017C   \n",
       "\n",
       "                     Crime type        Last outcome category  Context  \n",
       "0                   Shoplifting    Status update unavailable      NaN  \n",
       "1  Violence and sexual offences  Unable to prosecute suspect      NaN  "
      ]
     },
     "execution_count": 7,
     "metadata": {},
     "output_type": "execute_result"
    }
   ],
   "source": [
    "street_data_df.head(2)"
   ]
  },
  {
   "cell_type": "code",
   "execution_count": 5,
   "metadata": {},
   "outputs": [
    {
     "name": "stdout",
     "output_type": "stream",
     "text": [
      "Street Data contains 13778488 records.\n"
     ]
    }
   ],
   "source": [
    "print(f\"Street Data contains {street_data_df.shape[0]} records.\")"
   ]
  },
  {
   "cell_type": "markdown",
   "metadata": {},
   "source": [
    "So, Thirteen million, seven hundred seventy-eight thousand, four hundred eighty-eight rows"
   ]
  },
  {
   "cell_type": "code",
   "execution_count": 6,
   "metadata": {},
   "outputs": [
    {
     "ename": "TypeError",
     "evalue": "DataFrame.dropna() takes 1 positional argument but 2 were given",
     "output_type": "error",
     "traceback": [
      "\u001b[0;31m---------------------------------------------------------------------------\u001b[0m",
      "\u001b[0;31mTypeError\u001b[0m                                 Traceback (most recent call last)",
      "Cell \u001b[0;32mIn[6], line 1\u001b[0m\n\u001b[0;32m----> 1\u001b[0m street_data_df_cleaned \u001b[38;5;241m=\u001b[39m \u001b[43mdf\u001b[49m\u001b[38;5;241;43m.\u001b[39;49m\u001b[43mdropna\u001b[49m\u001b[43m(\u001b[49m\u001b[38;5;124;43m\"\u001b[39;49m\u001b[38;5;124;43mLastoutcomecategory\u001b[39;49m\u001b[38;5;124;43m\"\u001b[39;49m\u001b[43m)\u001b[49m\n\u001b[1;32m      2\u001b[0m \u001b[38;5;28mprint\u001b[39m(\u001b[38;5;124mf\u001b[39m\u001b[38;5;124m\"\u001b[39m\u001b[38;5;124mStreet Data contains \u001b[39m\u001b[38;5;132;01m{\u001b[39;00mstreet_data_df_cleaned\u001b[38;5;241m.\u001b[39mshape[\u001b[38;5;241m0\u001b[39m]\u001b[38;5;132;01m}\u001b[39;00m\u001b[38;5;124m records.\u001b[39m\u001b[38;5;124m\"\u001b[39m)\n",
      "\u001b[0;31mTypeError\u001b[0m: DataFrame.dropna() takes 1 positional argument but 2 were given"
     ]
    }
   ],
   "source": [
    "street_data_df_cleaned = df.dropna(\"Lastoutcomecategory\")\n",
    "print(f\"Street Data contains {street_data_df_cleaned.shape[0]} records.\")"
   ]
  },
  {
   "cell_type": "markdown",
   "metadata": {},
   "source": [
    "1. Convert Categorical Variables into Numerical Representations\n",
    "\n",
    "Machine learning models typically work with numbers, not categories. To include categorical variables like Reported by, Falls within, and LSOA name in your model, you need to convert them into numerical formats.\n",
    "\t•\tWhy? Algorithms like logistic regression or tree-based models need numerical inputs to calculate distances or splits.\n",
    "\t•\tHow?\n",
    "\t•\tOne-hot encoding: Create a new column for each category. For example, if Falls within has three categories (e.g., “Cambridgeshire Constabulary”, “Metropolitan Police”, “Thames Valley Police”), you create three columns. For a given row, one of these columns will have a value of 1, and the others will be 0.\n",
    "Example:"
   ]
  },
  {
   "cell_type": "code",
   "execution_count": null,
   "metadata": {},
   "outputs": [],
   "source": []
  },
  {
   "cell_type": "code",
   "execution_count": null,
   "metadata": {},
   "outputs": [],
   "source": []
  },
  {
   "cell_type": "code",
   "execution_count": null,
   "metadata": {},
   "outputs": [],
   "source": []
  }
 ],
 "metadata": {
  "kernelspec": {
   "display_name": "Python 3",
   "language": "python",
   "name": "python3"
  },
  "language_info": {
   "codemirror_mode": {
    "name": "ipython",
    "version": 3
   },
   "file_extension": ".py",
   "mimetype": "text/x-python",
   "name": "python",
   "nbconvert_exporter": "python",
   "pygments_lexer": "ipython3",
   "version": "3.12.7"
  }
 },
 "nbformat": 4,
 "nbformat_minor": 2
}
