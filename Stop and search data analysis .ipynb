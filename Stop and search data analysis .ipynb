{
 "cells": [
  {
   "cell_type": "markdown",
   "metadata": {},
   "source": [
    "# Analysis of the historic records of stop and search data from MPS \n"
   ]
  },
  {
   "cell_type": "code",
   "execution_count": null,
   "metadata": {},
   "outputs": [
    {
     "ename": "",
     "evalue": "",
     "output_type": "error",
     "traceback": [
      "\u001b[1;31mFailed to start the Kernel. \n",
      "\u001b[1;31mEPERM: operation not permitted, scandir '/Users/nathanstuttard/Documents/Data Science Projects/Police Dataset/Police Dataset'. \n",
      "\u001b[1;31mView Jupyter <a href='command:jupyter.viewOutput'>log</a> for further details."
     ]
    }
   ],
   "source": [
    "# Located at: link https://data.police.uk/data/\n",
    "\n",
    "# Consists of ~ 5000 excel files from the MPS database \n",
    "# From time range of 2021 to 2024\n",
    "\n",
    "# data organised in folders of month - year\n",
    "#each folder contains ~ 127 Excel files\n",
    "# each folder has 3 files for each force\n",
    "# 1.name-of-force-outcomes\n",
    "# 2. name-of-force-stop-and-search\n",
    "# 3. name-of-force-outcomes - street level crime\n",
    "\n"
   ]
  },
  {
   "cell_type": "code",
   "execution_count": null,
   "metadata": {},
   "outputs": [],
   "source": [
    "# move the files from individual folders to one big folder for outcomes, stop and search and street level crime\n",
    "\n",
    "# big folder contains combined three data types\n",
    "\n",
    "# import os is used for interacting with the operating system \n",
    "import os\n",
    "\n",
    "# import shutil is used for high level operations on files and collections of files\n",
    "import shutil\n",
    "\n",
    "\"\"\"\"\n",
    "\n",
    "def move_excel_files(master_source_dir, destination_directory_stop_and_search):\n",
    "    for folder in os.listdir(master_source_dir):\n",
    "        folder_path = os.path.join(master_source_dir, folder)\n",
    "        if os.path.isdir(folder_path):\n",
    "            for root, dirs, files in os.walk(folder_path):\n",
    "                for file in files:\n",
    "                    #checking to see if the file contains Stop and Search data\n",
    "                    if file.endswith(\".xlsx\") or file.endswith(\".xls\") or file.endswith(\".csv\") :\n",
    "                        source_file = os.path.join(root, file)\n",
    "                        destination_file = os.path.join(destination_directory_stop_and_search, file)\n",
    "                        try:\n",
    "                            shutil.move(source_file, destination_file)\n",
    "                            #print(f\"Moved: {source_file} to {destination_file}\")\n",
    "                        except Exception as e:\n",
    "                            print(f\"Error moving {source_file}: {e}\")\n",
    "\n",
    "# Specify the master source directory containing the 39 folders\n",
    "master_source_directory = r'C:\\Users\\Nathan\\Documents\\Data Science Projects\\Police Dataset\\Police Dataset'\n",
    "\n",
    "# Specify the destination directory where all Excel files will be moved\n",
    "# This is folder which contains all the stop and search data\n",
    "\n",
    "destination_directory_stop_and_search = r'C:\\Users\\\\Nathan\\Documents\\Data Science Projects\\Police Dataset\\Police Dataset\\Stop and Search'\n",
    "\n",
    "# Create the destination directory if it doesn't exist\n",
    "os.makedirs(destination_directory_stop_and_search, exist_ok=True)\n",
    "\n",
    "# Call the function to move Excel files into the master stop and search folder\n",
    "move_excel_files(master_source_directory, destination_directory_stop_and_search)\n",
    "print(\"Done\")\n",
    "\n",
    "%time\n",
    "%timeit\n",
    "\n",
    "\"\"\""
   ]
  },
  {
   "cell_type": "code",
   "execution_count": null,
   "metadata": {},
   "outputs": [],
   "source": [
    "# Now have all the data in one place, create dataframes for each data type"
   ]
  },
  {
   "cell_type": "code",
   "execution_count": null,
   "metadata": {},
   "outputs": [],
   "source": [
    "#Import all the neccessry packages\n",
    "\n",
    "import pandas as pd\n",
    "import numpy as np\n",
    "import seaborn as sn\n",
    "import matplotlib.pyplot as plt\n",
    "import seaborn as sns\n",
    "\n",
    "import sys #used for \n",
    "import csv\n",
    "import glob # used to access specific path names\n",
    "\n",
    "print (\"it worked\")\n",
    "\n",
    "%time\n",
    "%timeit"
   ]
  },
  {
   "cell_type": "code",
   "execution_count": null,
   "metadata": {},
   "outputs": [],
   "source": [
    "# get data files names\n",
    "print (\"it worked\")\n",
    "\n",
    "%time\n",
    "%timeit"
   ]
  },
  {
   "cell_type": "markdown",
   "metadata": {},
   "source": [
    "\n",
    "\n",
    "# Step 4: Import Excel Files into Pandas ########"
   ]
  },
  {
   "cell_type": "code",
   "execution_count": null,
   "metadata": {},
   "outputs": [],
   "source": [
    "import glob\n",
    "import pandas as pd\n",
    "\n",
    "all_excels = glob.glob(r\"/Users/nathanstuttard/Documents/Data Science Projects/Police Dataset/Police Dataset/Stop and Search\\*.csv\")\n",
    "\n",
    "# get the absolute path of all Excel files \n",
    "# all_excel_files = glob.glob(r\"C:\\Users\\Nathan\\Documents\\Data Science Projects\\Police Dataset\\Police Dataset\\Stop and Search\\*.csv\")\n",
    "\n",
    "# Check if any Excel files were found\n",
    "if not all_excel_files:\n",
    "    print(\"No Excel files found.\")\n",
    "else:\n",
    "    print(f\"Fouddddddnd {len(all_excel_files)} Excel files.\")\n",
    "\n",
    "li = []\n",
    "for filename in all_excel_files:\n",
    "    df = pd.read_csv(filename, index_col=None, header=0)\n",
    "    li.append(df)\n",
    "\n",
    "# read all Excel files at once\n",
    "#df = pd.concat(pd.read_excel(excel_file) for excel_file in all_excel_files)\n",
    "\n",
    "%time\n",
    "%timeit"
   ]
  },
  {
   "cell_type": "code",
   "execution_count": null,
   "metadata": {},
   "outputs": [],
   "source": [
    "df = pd.concat(li, axis=0, ignore_index=True)\n",
    "\n",
    "print(\"dsjndsnjdscjk\")"
   ]
  },
  {
   "cell_type": "code",
   "execution_count": null,
   "metadata": {},
   "outputs": [],
   "source": [
    "df"
   ]
  },
  {
   "cell_type": "code",
   "execution_count": null,
   "metadata": {},
   "outputs": [],
   "source": []
  },
  {
   "cell_type": "code",
   "execution_count": null,
   "metadata": {},
   "outputs": [],
   "source": []
  }
 ],
 "metadata": {
  "kernelspec": {
   "display_name": "Python 3",
   "language": "python",
   "name": "python3"
  },
  "language_info": {
   "codemirror_mode": {
    "name": "ipython",
    "version": 3
   },
   "file_extension": ".py",
   "mimetype": "text/x-python",
   "name": "python",
   "nbconvert_exporter": "python",
   "pygments_lexer": "ipython3",
   "version": "3.12.7"
  }
 },
 "nbformat": 4,
 "nbformat_minor": 2
}
